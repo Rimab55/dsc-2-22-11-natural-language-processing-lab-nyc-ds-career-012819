{
 "cells": [
  {
   "cell_type": "markdown",
   "metadata": {},
   "source": [
    "# Word Vectorization - Lab\n",
    "\n",
    "## Introduction\n",
    "\n",
    "In this lab, we'll learn how tokenize and vectorize text documents, create an use a Bag of Words, and identify words unique to individual documents using TF-IDF Vectorization. \n",
    "\n",
    "## Objectives\n",
    "\n",
    "You will be able to: \n",
    "\n",
    "* Tokenize a corpus of words and identify the different choices to be made while parsing them\n",
    "* Use a Count Vectorization strategy to create a Bag of Words\n",
    "* Use TF-IDF Vectorization with multiple documents to identify words that are important/unique to certain documents\n",
    "\n",
    "## Let's get started!\n",
    "\n",
    "Run the cell below to import everything necessary for this lab.  "
   ]
  },
  {
   "cell_type": "code",
   "execution_count": 6,
   "metadata": {},
   "outputs": [],
   "source": [
    "import pandas as pd\n",
    "import numpy as np\n",
    "from mpl_toolkits.mplot3d import Axes3D\n",
    "import matplotlib.pyplot as plt\n",
    "%matplotlib inline\n",
    "from sklearn.manifold import TSNE\n",
    "from nltk.tokenize import word_tokenize\n",
    "np.random.seed(0)"
   ]
  },
  {
   "cell_type": "markdown",
   "metadata": {},
   "source": [
    "### Our Corpus\n",
    "\n",
    "In this lab, we'll be working with 20 different documents, each containing song lyrics from either Garth Brooks or Kendrick Lamar albums.  \n",
    "\n",
    "The songs are contained within the `data` subdirectory, contained within the same folder as this lab.  Each song is stored in a single file, with files ranging from `song1.txt` to `song20.txt`.  \n",
    "\n",
    "To make it easy to read in all of the documents, use a list comprehension to create a list containing the name of every single song file in the cell below. "
   ]
  },
  {
   "cell_type": "code",
   "execution_count": 7,
   "metadata": {},
   "outputs": [],
   "source": [
    "filenames = ['song' + str(i) +'.txt' for i in range(1,21)]"
   ]
  },
  {
   "cell_type": "code",
   "execution_count": 8,
   "metadata": {},
   "outputs": [
    {
     "data": {
      "text/plain": [
       "['song1.txt',\n",
       " 'song2.txt',\n",
       " 'song3.txt',\n",
       " 'song4.txt',\n",
       " 'song5.txt',\n",
       " 'song6.txt',\n",
       " 'song7.txt',\n",
       " 'song8.txt',\n",
       " 'song9.txt',\n",
       " 'song10.txt',\n",
       " 'song11.txt',\n",
       " 'song12.txt',\n",
       " 'song13.txt',\n",
       " 'song14.txt',\n",
       " 'song15.txt',\n",
       " 'song16.txt',\n",
       " 'song17.txt',\n",
       " 'song18.txt',\n",
       " 'song19.txt',\n",
       " 'song20.txt']"
      ]
     },
     "execution_count": 8,
     "metadata": {},
     "output_type": "execute_result"
    }
   ],
   "source": [
    "filenames"
   ]
  },
  {
   "cell_type": "markdown",
   "metadata": {},
   "source": [
    "Next, let's import a single song to see what our text looks like so that we can make sure we clean and tokenize it correctly. \n",
    "\n",
    "In the cell below, read in and print out the lyrics from `song11.txt`.  Use vanilla python, no pandas needed.  "
   ]
  },
  {
   "cell_type": "code",
   "execution_count": 9,
   "metadata": {},
   "outputs": [
    {
     "name": "stdout",
     "output_type": "stream",
     "text": [
      "['[Kendrick Lamar:]\\n', \"Love, let's talk about love\\n\", 'Is it anything and everything you hoped for?\\n', 'Or do the feeling haunt you?\\n', 'I know the feeling haunt you\\n', '[SZA:]\\n', 'This may be the night that my dreams might let me know\\n', 'All the stars approach you, all the stars approach you, all the stars approach you\\n', 'This may be the night that my dreams might let me know\\n', 'All the stars are closer, all the stars are closer, all the stars are closer\\n', '[Kendrick Lamar:]\\n', \"Tell me what you gon' do to me\\n\", \"Confrontation ain't nothin' new to me\\n\", 'You can bring a bullet, bring a sword, bring a morgue\\n', \"But you can't bring the truth to me\\n\", 'Fuck you and all your expectations\\n', \"I don't even want your congratulations\\n\", 'I recognize your false confidence\\n', 'And calculated promises all in your conversation\\n', 'I hate people that feel entitled\\n', \"Look at me crazy 'cause I ain't invite you\\n\", 'Oh, you important?\\n', \"You the moral to the story? You endorsin'?\\n\", \"Motherfucker, I don't even like you\\n\", \"Corrupt a man's heart with a gift\\n\", \"That's how you find out who you dealin' with\\n\", \"A small percentage who I'm buildin' with\\n\", \"I want the credit if I'm losin' or I'm winnin'\\n\", \"On my momma, that's the realest shit\\n\", \"Love, let's talk about love\\n\", 'Is it anything and everything you hoped for?\\n', 'Or do the feeling haunt you?\\n', 'I know the feeling haunt you\\n', '[SZA:]\\n', 'This may be the night that my dreams might let me know\\n', 'All the stars approach you, all the stars approach you, all the stars approach you\\n', 'This may be the night that my dreams might let me know\\n', 'All the stars are closer, all the stars are closer, all the stars are closer\\n', 'Skin covered in ego\\n', \"Get to talkin' like ya involved, like a rebound\\n\", 'Got no end game, got no reason\\n', \"Got to stay down, it's the way that you making me feel\\n\", 'Like nobody ever loved me like you do, you do\\n', \"You kinda feeling like you're tryna get away from me\\n\", \"If you do, I won't move\\n\", \"I ain't just cryin' for no reason\\n\", \"I ain't just prayin' for no reason\\n\", 'I give thanks for the days, for the hours\\n', \"And another way, another life breathin'\\n\", \"I did it all 'cause it feel good\\n\", \"I wouldn't do it at all if it feel bad\\n\", \"Better live your life, we're runnin' out of time\\n\", '[Kendrick Lamar & SZA:]\\n', \"Love, let's talk about love\\n\", 'Is it anything and everything you hoped for?\\n', 'Or do the feeling haunt you?\\n', 'I know the feeling haunt you\\n', '[SZA:]\\n', 'This may be the night that my dreams might let me know\\n', 'All the stars approach you, all the stars approach you, all the stars approach you\\n', 'This may be the night that my dreams might let me know\\n', 'All the stars are closer, all the stars are closer, all the stars are closer\\n']\n"
     ]
    }
   ],
   "source": [
    "with open('data/song11.txt') as f:\n",
    "    test_song = f.readlines()\n",
    "    print(test_song)"
   ]
  },
  {
   "cell_type": "markdown",
   "metadata": {},
   "source": [
    "### Tokenizing our Data\n",
    "\n",
    "Before we can create a Bag of Words or vectorize each document, we need to clean it up and split each song into an array of individual words.  Computers are very particular about strings. If we tokenized our data in it's current state, we would run into the following problems:\n",
    "\n",
    "1. Counting things that aren't actually words.  In the example above, `\"[Kendrick]\"` is a note specifying who is speaking, not a lyric contained in the actual song, so it should be removed.  \n",
    "1. Punctuation and capitalization would mess up our word counts.  To the python interpreter, `love`, `Love`, `Love?`, and `Love\\n` are all unique words, and would all be counted separately.  We need to remove punctuation and capitalization, so that all words will be counted correctly. \n",
    "\n",
    "Consider the following sentences from the example above:\n",
    "\n",
    "`\"Love, let's talk about love\\n\", 'Is it anything and everything you hoped for?\\n'`\n",
    "\n",
    "After tokenization, this should look like:\n",
    "\n",
    "`['love', 'let's', 'talk', 'about', 'love', 'is', 'it', 'anything', 'and', 'everything', 'you', 'hoped', 'for']`\n",
    "\n",
    "Tokenization is pretty tedious if we handle it manually, and would probably make use of Regular Expressions, which is outside the scope of this lab.  In order to keep this lab moving, we'll use a library function to clean and tokenize our data so that we can move onto vectorization.  \n",
    "\n",
    "Tokenization is a required task for just about any Natural Language Processing (NLP) task, so great industry-standard tools exist to tokenize things for us, so that we can spend our time on more important tasks without getting bogged down hunting every special symbol or punctuation in a massive dataset. For this lab, we'll make use of the tokenizer in the amazing `nltk` library, which is short for _Natural Language Tool Kit_.\n",
    "\n",
    "**_NOTE:_** NLTK requires extra installation methods to be run the first time certain methods are used.  If `nltk` throws you an error about needing to install additional packages, follow the instructions in the error message to install the dependencies, and then rerun the cell.  \n",
    "\n",
    "Before we tokenize our songs, we'll do only a small manual bit of cleaning.  In the cell below, write a function that allows us to remove lines that have `['artist names']` in it, to ensure that our song files contain only lyrics that are actually in the song. For the lines that remain, make every word lowercase, remove newline characters `\\n`, and any of the following punctuation marks: `\",.'?!\"`\n",
    "\n",
    "Test the function on `test_song` to show that it has successfully removed `'[Kendrick Lamar:]'` and other instances of artist names from the song and returned it.  "
   ]
  },
  {
   "cell_type": "code",
   "execution_count": 10,
   "metadata": {},
   "outputs": [
    {
     "data": {
      "text/plain": [
       "['[Kendrick Lamar:]\\n',\n",
       " \"Love, let's talk about love\\n\",\n",
       " 'Is it anything and everything you hoped for?\\n',\n",
       " 'Or do the feeling haunt you?\\n',\n",
       " 'I know the feeling haunt you\\n',\n",
       " '[SZA:]\\n',\n",
       " 'This may be the night that my dreams might let me know\\n',\n",
       " 'All the stars approach you, all the stars approach you, all the stars approach you\\n',\n",
       " 'This may be the night that my dreams might let me know\\n',\n",
       " 'All the stars are closer, all the stars are closer, all the stars are closer\\n']"
      ]
     },
     "execution_count": 10,
     "metadata": {},
     "output_type": "execute_result"
    }
   ],
   "source": [
    "test_song[:10]"
   ]
  },
  {
   "cell_type": "code",
   "execution_count": 11,
   "metadata": {},
   "outputs": [
    {
     "name": "stdout",
     "output_type": "stream",
     "text": [
      "['love lets talk about love', 'is it anything and everything you hoped for', 'or do the feeling haunt you', 'i know the feeling haunt you', 'this may be the night that my dreams might let me know', 'all the stars approach you all the stars approach you all the stars approach you', 'this may be the night that my dreams might let me know', 'all the stars are closer all the stars are closer all the stars are closer', 'tell me what you gon do to me', 'confrontation aint nothin new to me', 'you can bring a bullet bring a sword bring a morgue', 'but you cant bring the truth to me', 'fuck you and all your expectations', 'i dont even want your congratulations', 'i recognize your false confidence', 'and calculated promises all in your conversation', 'i hate people that feel entitled', 'look at me crazy cause i aint invite you', 'oh you important', 'you the moral to the story you endorsin', 'motherfucker i dont even like you', 'corrupt a mans heart with a gift', 'thats how you find out who you dealin with', 'a small percentage who im buildin with', 'i want the credit if im losin or im winnin', 'on my momma thats the realest shit', 'love lets talk about love', 'is it anything and everything you hoped for', 'or do the feeling haunt you', 'i know the feeling haunt you', 'this may be the night that my dreams might let me know', 'all the stars approach you all the stars approach you all the stars approach you', 'this may be the night that my dreams might let me know', 'all the stars are closer all the stars are closer all the stars are closer', 'skin covered in ego', 'get to talkin like ya involved like a rebound', 'got no end game got no reason', 'got to stay down its the way that you making me feel', 'like nobody ever loved me like you do you do', 'you kinda feeling like youre tryna get away from me', 'if you do i wont move', 'i aint just cryin for no reason', 'i aint just prayin for no reason', 'i give thanks for the days for the hours', 'and another way another life breathin', 'i did it all cause it feel good', 'i wouldnt do it at all if it feel bad', 'better live your life were runnin out of time', 'love lets talk about love', 'is it anything and everything you hoped for', 'or do the feeling haunt you', 'i know the feeling haunt you', 'this may be the night that my dreams might let me know', 'all the stars approach you all the stars approach you all the stars approach you', 'this may be the night that my dreams might let me know', 'all the stars are closer all the stars are closer all the stars are closer']\n"
     ]
    }
   ],
   "source": [
    "def clean_song(song):\n",
    "    cleaned_song = []\n",
    "    for line in song:\n",
    "        if not '[' in line and  not ']' in line:  # to exclude artist names\n",
    "            for symbol in \",.?!''\\n\": # to remove special characters and \\n\n",
    "                line = line.replace(symbol, '').lower() # and lower case word\n",
    "            cleaned_song.append(line)\n",
    "    return cleaned_song\n",
    "\n",
    "song_without_brackets = clean_song(test_song)\n",
    "print(song_without_brackets)"
   ]
  },
  {
   "cell_type": "markdown",
   "metadata": {},
   "source": [
    "Great. Now, write a function that takes in songs that have had their brackets removed, joins all of the lines into a single string, and then uses `tokenize()` on it to get a fully tokenized version of the song.  Test this funtion on `song_without_brackets` to ensure that the function works. "
   ]
  },
  {
   "cell_type": "code",
   "execution_count": 12,
   "metadata": {
    "scrolled": false
   },
   "outputs": [
    {
     "name": "stderr",
     "output_type": "stream",
     "text": [
      "[nltk_data] Downloading package punkt to /home/Rimab55/nltk_data...\n",
      "[nltk_data]   Unzipping tokenizers/punkt.zip.\n"
     ]
    },
    {
     "data": {
      "text/plain": [
       "True"
      ]
     },
     "execution_count": 12,
     "metadata": {},
     "output_type": "execute_result"
    }
   ],
   "source": [
    "import nltk\n",
    "nltk.download('punkt')"
   ]
  },
  {
   "cell_type": "code",
   "execution_count": 13,
   "metadata": {},
   "outputs": [
    {
     "name": "stdout",
     "output_type": "stream",
     "text": [
      "Help on function word_tokenize in module nltk.tokenize:\n",
      "\n",
      "word_tokenize(text, language='english', preserve_line=False)\n",
      "    Return a tokenized copy of *text*,\n",
      "    using NLTK's recommended word tokenizer\n",
      "    (currently an improved :class:`.TreebankWordTokenizer`\n",
      "    along with :class:`.PunktSentenceTokenizer`\n",
      "    for the specified language).\n",
      "    \n",
      "    :param text: text to split into words\n",
      "    :type text: str\n",
      "    :param language: the model name in the Punkt corpus\n",
      "    :type language: str\n",
      "    :param preserve_line: An option to keep the preserve the sentence and not sentence tokenize it.\n",
      "    :type preserve_line: bool\n",
      "\n"
     ]
    }
   ],
   "source": [
    "help(word_tokenize)"
   ]
  },
  {
   "cell_type": "code",
   "execution_count": 14,
   "metadata": {},
   "outputs": [
    {
     "data": {
      "text/plain": [
       "['love',\n",
       " 'lets',\n",
       " 'talk',\n",
       " 'about',\n",
       " 'love',\n",
       " 'is',\n",
       " 'it',\n",
       " 'anything',\n",
       " 'and',\n",
       " 'everything']"
      ]
     },
     "execution_count": 14,
     "metadata": {},
     "output_type": "execute_result"
    }
   ],
   "source": [
    "def tokenize(song):\n",
    "    joined_song = ' '.join(song) # joins all the lists of words into one list of words\n",
    "    tokenized_song = word_tokenize(joined_song) # splits into words\n",
    "\n",
    "    return tokenized_song\n",
    "    \n",
    "tokenized_test_song = tokenize(song_without_brackets)\n",
    "tokenized_test_song[:10]"
   ]
  },
  {
   "cell_type": "markdown",
   "metadata": {},
   "source": [
    "Great! Now that we know the ability to tokenize our songs, we can move onto Vectorization. \n",
    "\n",
    "### Count Vectorization\n",
    "\n",
    "Machine Learning algorithms don't understand strings.  However, they do understand math, which means they understand vectors and matrices.  By **_Vectorizing_** the text, we just convert the entire text into a vector, where each element in the vector represents a different word.  The vector is the length of the entire vocabulary--usually, every word that occurs in the English language, or at least every word that appears in our corpus.  Any given sentence can then be represented as a vector where all the vector is 1 (or some other value) for each time that word appears in the sentence. \n",
    "\n",
    "Consider the following example: \n",
    "\n",
    "<center>\"I scream, you scream, we all scream for ice cream.\"</center>\n",
    "\n",
    "| 'aardvark' | 'apple' | [...] | 'I' | 'you' | 'scream' | 'we' | 'all' | 'for' | 'ice' | 'cream' | [...] | 'xylophone' | 'zebra' |\n",
    "|:----------:|:-------:|:-----:|:---:|:-----:|:--------:|:----:|:-----:|:-----:|:-----:|:-------:|:-----:|:-----------:|:-------:|\n",
    "|      0     |    0    |   0   |  1  |   1   |     3    |   1  |   1   |   1   |   1   |    1    |   0   |      0      |    0    |\n",
    "\n",
    "This is called a **_Sparse Representation_**, since the strong majority of the columns will have a value of 0.  Note that elements corresponding to words that do not occur in the sentence have a value of 0, while words that do appear in the sentence have a value of 1 (or 1 for each time it appears in the sentence).\n",
    "\n",
    "Alternatively, we can represent this sentence as a plain old python dictionary of word frequency counts:\n",
    "\n",
    "```python\n",
    "BoW = {\n",
    "    'I':1,\n",
    "    'you':1,\n",
    "    'scream':3,\n",
    "    'we':1,\n",
    "    'all':1,\n",
    "    'for':1,\n",
    "    'ice':1,\n",
    "    'cream':1\n",
    "}\n",
    "```\n",
    "\n",
    "Both of these are examples of **_Count Vectorization_**. They allow us to represent a sentence as a vector, with each element in the vector corresponding to how many times that word is used.\n",
    "\n",
    "#### Positional Information and Bag of Words\n",
    "\n",
    "Notice that when we vectorize a sentence this way, we lose the order that the words were in.  This is the **_Bag of Words_** approach mentioned earlier.  Note that sentences that contain the same words will create the same vectors, even if they mean different things--e.g. `'cats are scared of dogs'` and `'dogs are scared of cats'` would both produce the exact same vector, since they contain the same words.  \n",
    "\n",
    "In the cell below, create a function that takes in a tokenized, cleaned song and returns a Count Vectorized representation of it as a python dictionary. Add in an optional parameter called `vocab` that defaults to `None`. This way, if we are using a vocabulary that contains words not seen in the song, we can still use this function by passing it in to the `vocab` parameter. \n",
    "\n",
    "**_Hint:_**  Consider using a `set` object to make this easier!"
   ]
  },
  {
   "cell_type": "code",
   "execution_count": 15,
   "metadata": {
    "scrolled": true
   },
   "outputs": [
    {
     "name": "stdout",
     "output_type": "stream",
     "text": [
      "{'people': 1, 'motherfucker': 1, 'better': 1, 'ya': 1, 'i': 15, 'morgue': 1, 'way': 2, 'down': 1, 'bring': 4, 'in': 2, 'important': 1, 'thats': 2, 'realest': 1, 'its': 1, 'breathin': 1, 'hoped': 3, 'new': 1, 'with': 3, 'ever': 1, 'anything': 3, 'to': 6, 'game': 1, 'recognize': 1, 'momma': 1, 'percentage': 1, 'fuck': 1, 'mans': 1, 'just': 2, 'life': 2, 'involved': 1, 'is': 3, 'small': 1, 'everything': 3, 'ego': 1, 'winnin': 1, 'about': 3, 'bad': 1, 'and': 6, 'want': 2, 'good': 1, 'how': 1, 'im': 3, 'kinda': 1, 'move': 1, 'days': 1, 'like': 6, 'tryna': 1, 'shit': 1, 'can': 1, 'oh': 1, 'might': 6, 'a': 7, 'approach': 9, 'expectations': 1, 'look': 1, 'at': 2, 'talk': 3, 'know': 9, 'promises': 1, 'closer': 9, 'get': 2, 'this': 6, 'from': 1, 'gon': 1, 'stay': 1, 'love': 6, 'confidence': 1, 'wouldnt': 1, 'time': 1, 'dreams': 6, 'are': 9, 'tell': 1, 'live': 1, 'corrupt': 1, 'away': 1, 'the': 38, 'feel': 4, 'feeling': 7, 'hours': 1, 'were': 1, 'aint': 4, 'story': 1, 'find': 1, 'gift': 1, 'reason': 3, 'all': 22, 'conversation': 1, 'you': 34, 'of': 1, 'that': 8, 'truth': 1, 'another': 2, 'endorsin': 1, 'your': 5, 'who': 2, 'invite': 1, 'nothin': 1, 'skin': 1, 'loved': 1, 'haunt': 6, 'but': 1, 'cant': 1, 'sword': 1, 'buildin': 1, 'prayin': 1, 'losin': 1, 'confrontation': 1, 'lets': 3, 'wont': 1, 'be': 6, 'hate': 1, 'credit': 1, 'end': 1, 'for': 7, 'if': 3, 'congratulations': 1, 'no': 4, 'give': 1, 'runnin': 1, 'moral': 1, 'or': 4, 'cryin': 1, 'calculated': 1, 'cause': 2, 'false': 1, 'let': 6, 'covered': 1, 'entitled': 1, 'may': 6, 'it': 7, 'out': 2, 'stars': 18, 'heart': 1, 'rebound': 1, 'crazy': 1, 'do': 8, 'night': 6, 'making': 1, 'even': 2, 'on': 1, 'bullet': 1, 'dealin': 1, 'what': 1, 'nobody': 1, 'did': 1, 'dont': 2, 'thanks': 1, 'got': 3, 'talkin': 1, 'me': 14, 'youre': 1, 'my': 7}\n"
     ]
    }
   ],
   "source": [
    "def count_vectorize(song, vocab=None):\n",
    "    if vocab:\n",
    "        unique_words = vocab\n",
    "    else:\n",
    "        unique_words = list(set(song))\n",
    "    \n",
    "    song_dict = {i:0 for i in unique_words}\n",
    "    \n",
    "    for word in song:\n",
    "        song_dict[word] += 1\n",
    "    \n",
    "    return song_dict\n",
    "\n",
    "test_vectorized = count_vectorize(tokenized_test_song)\n",
    "print(test_vectorized)\n"
   ]
  },
  {
   "cell_type": "code",
   "execution_count": 16,
   "metadata": {},
   "outputs": [],
   "source": [
    "from sklearn.feature_extraction.text import CountVectorizer"
   ]
  },
  {
   "cell_type": "code",
   "execution_count": 17,
   "metadata": {},
   "outputs": [
    {
     "data": {
      "text/plain": [
       "['love',\n",
       " 'lets',\n",
       " 'talk',\n",
       " 'about',\n",
       " 'love',\n",
       " 'is',\n",
       " 'it',\n",
       " 'anything',\n",
       " 'and',\n",
       " 'everything',\n",
       " 'you',\n",
       " 'hoped',\n",
       " 'for',\n",
       " 'or',\n",
       " 'do',\n",
       " 'the',\n",
       " 'feeling',\n",
       " 'haunt',\n",
       " 'you',\n",
       " 'i',\n",
       " 'know',\n",
       " 'the',\n",
       " 'feeling',\n",
       " 'haunt',\n",
       " 'you',\n",
       " 'this',\n",
       " 'may',\n",
       " 'be',\n",
       " 'the',\n",
       " 'night',\n",
       " 'that',\n",
       " 'my',\n",
       " 'dreams',\n",
       " 'might',\n",
       " 'let',\n",
       " 'me',\n",
       " 'know',\n",
       " 'all',\n",
       " 'the',\n",
       " 'stars',\n",
       " 'approach',\n",
       " 'you',\n",
       " 'all',\n",
       " 'the',\n",
       " 'stars',\n",
       " 'approach',\n",
       " 'you',\n",
       " 'all',\n",
       " 'the',\n",
       " 'stars',\n",
       " 'approach',\n",
       " 'you',\n",
       " 'this',\n",
       " 'may',\n",
       " 'be',\n",
       " 'the',\n",
       " 'night',\n",
       " 'that',\n",
       " 'my',\n",
       " 'dreams',\n",
       " 'might',\n",
       " 'let',\n",
       " 'me',\n",
       " 'know',\n",
       " 'all',\n",
       " 'the',\n",
       " 'stars',\n",
       " 'are',\n",
       " 'closer',\n",
       " 'all',\n",
       " 'the',\n",
       " 'stars',\n",
       " 'are',\n",
       " 'closer',\n",
       " 'all',\n",
       " 'the',\n",
       " 'stars',\n",
       " 'are',\n",
       " 'closer',\n",
       " 'tell',\n",
       " 'me',\n",
       " 'what',\n",
       " 'you',\n",
       " 'gon',\n",
       " 'do',\n",
       " 'to',\n",
       " 'me',\n",
       " 'confrontation',\n",
       " 'aint',\n",
       " 'nothin',\n",
       " 'new',\n",
       " 'to',\n",
       " 'me',\n",
       " 'you',\n",
       " 'can',\n",
       " 'bring',\n",
       " 'a',\n",
       " 'bullet',\n",
       " 'bring',\n",
       " 'a',\n",
       " 'sword',\n",
       " 'bring',\n",
       " 'a',\n",
       " 'morgue',\n",
       " 'but',\n",
       " 'you',\n",
       " 'cant',\n",
       " 'bring',\n",
       " 'the',\n",
       " 'truth',\n",
       " 'to',\n",
       " 'me',\n",
       " 'fuck',\n",
       " 'you',\n",
       " 'and',\n",
       " 'all',\n",
       " 'your',\n",
       " 'expectations',\n",
       " 'i',\n",
       " 'dont',\n",
       " 'even',\n",
       " 'want',\n",
       " 'your',\n",
       " 'congratulations',\n",
       " 'i',\n",
       " 'recognize',\n",
       " 'your',\n",
       " 'false',\n",
       " 'confidence',\n",
       " 'and',\n",
       " 'calculated',\n",
       " 'promises',\n",
       " 'all',\n",
       " 'in',\n",
       " 'your',\n",
       " 'conversation',\n",
       " 'i',\n",
       " 'hate',\n",
       " 'people',\n",
       " 'that',\n",
       " 'feel',\n",
       " 'entitled',\n",
       " 'look',\n",
       " 'at',\n",
       " 'me',\n",
       " 'crazy',\n",
       " 'cause',\n",
       " 'i',\n",
       " 'aint',\n",
       " 'invite',\n",
       " 'you',\n",
       " 'oh',\n",
       " 'you',\n",
       " 'important',\n",
       " 'you',\n",
       " 'the',\n",
       " 'moral',\n",
       " 'to',\n",
       " 'the',\n",
       " 'story',\n",
       " 'you',\n",
       " 'endorsin',\n",
       " 'motherfucker',\n",
       " 'i',\n",
       " 'dont',\n",
       " 'even',\n",
       " 'like',\n",
       " 'you',\n",
       " 'corrupt',\n",
       " 'a',\n",
       " 'mans',\n",
       " 'heart',\n",
       " 'with',\n",
       " 'a',\n",
       " 'gift',\n",
       " 'thats',\n",
       " 'how',\n",
       " 'you',\n",
       " 'find',\n",
       " 'out',\n",
       " 'who',\n",
       " 'you',\n",
       " 'dealin',\n",
       " 'with',\n",
       " 'a',\n",
       " 'small',\n",
       " 'percentage',\n",
       " 'who',\n",
       " 'im',\n",
       " 'buildin',\n",
       " 'with',\n",
       " 'i',\n",
       " 'want',\n",
       " 'the',\n",
       " 'credit',\n",
       " 'if',\n",
       " 'im',\n",
       " 'losin',\n",
       " 'or',\n",
       " 'im',\n",
       " 'winnin',\n",
       " 'on',\n",
       " 'my',\n",
       " 'momma',\n",
       " 'thats',\n",
       " 'the',\n",
       " 'realest',\n",
       " 'shit',\n",
       " 'love',\n",
       " 'lets',\n",
       " 'talk',\n",
       " 'about',\n",
       " 'love',\n",
       " 'is',\n",
       " 'it',\n",
       " 'anything',\n",
       " 'and',\n",
       " 'everything',\n",
       " 'you',\n",
       " 'hoped',\n",
       " 'for',\n",
       " 'or',\n",
       " 'do',\n",
       " 'the',\n",
       " 'feeling',\n",
       " 'haunt',\n",
       " 'you',\n",
       " 'i',\n",
       " 'know',\n",
       " 'the',\n",
       " 'feeling',\n",
       " 'haunt',\n",
       " 'you',\n",
       " 'this',\n",
       " 'may',\n",
       " 'be',\n",
       " 'the',\n",
       " 'night',\n",
       " 'that',\n",
       " 'my',\n",
       " 'dreams',\n",
       " 'might',\n",
       " 'let',\n",
       " 'me',\n",
       " 'know',\n",
       " 'all',\n",
       " 'the',\n",
       " 'stars',\n",
       " 'approach',\n",
       " 'you',\n",
       " 'all',\n",
       " 'the',\n",
       " 'stars',\n",
       " 'approach',\n",
       " 'you',\n",
       " 'all',\n",
       " 'the',\n",
       " 'stars',\n",
       " 'approach',\n",
       " 'you',\n",
       " 'this',\n",
       " 'may',\n",
       " 'be',\n",
       " 'the',\n",
       " 'night',\n",
       " 'that',\n",
       " 'my',\n",
       " 'dreams',\n",
       " 'might',\n",
       " 'let',\n",
       " 'me',\n",
       " 'know',\n",
       " 'all',\n",
       " 'the',\n",
       " 'stars',\n",
       " 'are',\n",
       " 'closer',\n",
       " 'all',\n",
       " 'the',\n",
       " 'stars',\n",
       " 'are',\n",
       " 'closer',\n",
       " 'all',\n",
       " 'the',\n",
       " 'stars',\n",
       " 'are',\n",
       " 'closer',\n",
       " 'skin',\n",
       " 'covered',\n",
       " 'in',\n",
       " 'ego',\n",
       " 'get',\n",
       " 'to',\n",
       " 'talkin',\n",
       " 'like',\n",
       " 'ya',\n",
       " 'involved',\n",
       " 'like',\n",
       " 'a',\n",
       " 'rebound',\n",
       " 'got',\n",
       " 'no',\n",
       " 'end',\n",
       " 'game',\n",
       " 'got',\n",
       " 'no',\n",
       " 'reason',\n",
       " 'got',\n",
       " 'to',\n",
       " 'stay',\n",
       " 'down',\n",
       " 'its',\n",
       " 'the',\n",
       " 'way',\n",
       " 'that',\n",
       " 'you',\n",
       " 'making',\n",
       " 'me',\n",
       " 'feel',\n",
       " 'like',\n",
       " 'nobody',\n",
       " 'ever',\n",
       " 'loved',\n",
       " 'me',\n",
       " 'like',\n",
       " 'you',\n",
       " 'do',\n",
       " 'you',\n",
       " 'do',\n",
       " 'you',\n",
       " 'kinda',\n",
       " 'feeling',\n",
       " 'like',\n",
       " 'youre',\n",
       " 'tryna',\n",
       " 'get',\n",
       " 'away',\n",
       " 'from',\n",
       " 'me',\n",
       " 'if',\n",
       " 'you',\n",
       " 'do',\n",
       " 'i',\n",
       " 'wont',\n",
       " 'move',\n",
       " 'i',\n",
       " 'aint',\n",
       " 'just',\n",
       " 'cryin',\n",
       " 'for',\n",
       " 'no',\n",
       " 'reason',\n",
       " 'i',\n",
       " 'aint',\n",
       " 'just',\n",
       " 'prayin',\n",
       " 'for',\n",
       " 'no',\n",
       " 'reason',\n",
       " 'i',\n",
       " 'give',\n",
       " 'thanks',\n",
       " 'for',\n",
       " 'the',\n",
       " 'days',\n",
       " 'for',\n",
       " 'the',\n",
       " 'hours',\n",
       " 'and',\n",
       " 'another',\n",
       " 'way',\n",
       " 'another',\n",
       " 'life',\n",
       " 'breathin',\n",
       " 'i',\n",
       " 'did',\n",
       " 'it',\n",
       " 'all',\n",
       " 'cause',\n",
       " 'it',\n",
       " 'feel',\n",
       " 'good',\n",
       " 'i',\n",
       " 'wouldnt',\n",
       " 'do',\n",
       " 'it',\n",
       " 'at',\n",
       " 'all',\n",
       " 'if',\n",
       " 'it',\n",
       " 'feel',\n",
       " 'bad',\n",
       " 'better',\n",
       " 'live',\n",
       " 'your',\n",
       " 'life',\n",
       " 'were',\n",
       " 'runnin',\n",
       " 'out',\n",
       " 'of',\n",
       " 'time',\n",
       " 'love',\n",
       " 'lets',\n",
       " 'talk',\n",
       " 'about',\n",
       " 'love',\n",
       " 'is',\n",
       " 'it',\n",
       " 'anything',\n",
       " 'and',\n",
       " 'everything',\n",
       " 'you',\n",
       " 'hoped',\n",
       " 'for',\n",
       " 'or',\n",
       " 'do',\n",
       " 'the',\n",
       " 'feeling',\n",
       " 'haunt',\n",
       " 'you',\n",
       " 'i',\n",
       " 'know',\n",
       " 'the',\n",
       " 'feeling',\n",
       " 'haunt',\n",
       " 'you',\n",
       " 'this',\n",
       " 'may',\n",
       " 'be',\n",
       " 'the',\n",
       " 'night',\n",
       " 'that',\n",
       " 'my',\n",
       " 'dreams',\n",
       " 'might',\n",
       " 'let',\n",
       " 'me',\n",
       " 'know',\n",
       " 'all',\n",
       " 'the',\n",
       " 'stars',\n",
       " 'approach',\n",
       " 'you',\n",
       " 'all',\n",
       " 'the',\n",
       " 'stars',\n",
       " 'approach',\n",
       " 'you',\n",
       " 'all',\n",
       " 'the',\n",
       " 'stars',\n",
       " 'approach',\n",
       " 'you',\n",
       " 'this',\n",
       " 'may',\n",
       " 'be',\n",
       " 'the',\n",
       " 'night',\n",
       " 'that',\n",
       " 'my',\n",
       " 'dreams',\n",
       " 'might',\n",
       " 'let',\n",
       " 'me',\n",
       " 'know',\n",
       " 'all',\n",
       " 'the',\n",
       " 'stars',\n",
       " 'are',\n",
       " 'closer',\n",
       " 'all',\n",
       " 'the',\n",
       " 'stars',\n",
       " 'are',\n",
       " 'closer',\n",
       " 'all',\n",
       " 'the',\n",
       " 'stars',\n",
       " 'are',\n",
       " 'closer']"
      ]
     },
     "execution_count": 17,
     "metadata": {},
     "output_type": "execute_result"
    }
   ],
   "source": [
    "tokenized_test_song"
   ]
  },
  {
   "cell_type": "code",
   "execution_count": 18,
   "metadata": {},
   "outputs": [
    {
     "data": {
      "text/plain": [
       "{'love': 86,\n",
       " 'lets': 80,\n",
       " 'talk': 125,\n",
       " 'about': 0,\n",
       " 'is': 73,\n",
       " 'it': 74,\n",
       " 'anything': 5,\n",
       " 'and': 3,\n",
       " 'everything': 45,\n",
       " 'you': 147,\n",
       " 'hoped': 64,\n",
       " 'for': 51,\n",
       " 'or': 107,\n",
       " 'do': 35,\n",
       " 'the': 131,\n",
       " 'feeling': 49,\n",
       " 'haunt': 62,\n",
       " 'know': 78,\n",
       " 'this': 132,\n",
       " 'may': 90,\n",
       " 'be': 11,\n",
       " 'night': 100,\n",
       " 'that': 129,\n",
       " 'my': 98,\n",
       " 'dreams': 38,\n",
       " 'might': 92,\n",
       " 'let': 79,\n",
       " 'me': 91,\n",
       " 'all': 2,\n",
       " 'stars': 121,\n",
       " 'approach': 6,\n",
       " 'are': 7,\n",
       " 'closer': 22,\n",
       " 'tell': 127,\n",
       " 'what': 140,\n",
       " 'gon': 58,\n",
       " 'to': 134,\n",
       " 'confrontation': 24,\n",
       " 'aint': 1,\n",
       " 'nothin': 103,\n",
       " 'new': 99,\n",
       " 'can': 19,\n",
       " 'bring': 14,\n",
       " 'bullet': 16,\n",
       " 'sword': 124,\n",
       " 'morgue': 95,\n",
       " 'but': 17,\n",
       " 'cant': 20,\n",
       " 'truth': 135,\n",
       " 'fuck': 53,\n",
       " 'your': 148,\n",
       " 'expectations': 46,\n",
       " 'dont': 36,\n",
       " 'even': 43,\n",
       " 'want': 137,\n",
       " 'congratulations': 25,\n",
       " 'recognize': 116,\n",
       " 'false': 47,\n",
       " 'confidence': 23,\n",
       " 'calculated': 18,\n",
       " 'promises': 112,\n",
       " 'in': 70,\n",
       " 'conversation': 26,\n",
       " 'hate': 61,\n",
       " 'people': 109,\n",
       " 'feel': 48,\n",
       " 'entitled': 42,\n",
       " 'look': 84,\n",
       " 'at': 8,\n",
       " 'crazy': 29,\n",
       " 'cause': 21,\n",
       " 'invite': 71,\n",
       " 'oh': 105,\n",
       " 'important': 69,\n",
       " 'moral': 94,\n",
       " 'story': 123,\n",
       " 'endorsin': 41,\n",
       " 'motherfucker': 96,\n",
       " 'like': 82,\n",
       " 'corrupt': 27,\n",
       " 'mans': 89,\n",
       " 'heart': 63,\n",
       " 'with': 143,\n",
       " 'gift': 56,\n",
       " 'thats': 130,\n",
       " 'how': 66,\n",
       " 'find': 50,\n",
       " 'out': 108,\n",
       " 'who': 141,\n",
       " 'dealin': 33,\n",
       " 'small': 120,\n",
       " 'percentage': 110,\n",
       " 'im': 68,\n",
       " 'buildin': 15,\n",
       " 'credit': 30,\n",
       " 'if': 67,\n",
       " 'losin': 85,\n",
       " 'winnin': 142,\n",
       " 'on': 106,\n",
       " 'momma': 93,\n",
       " 'realest': 113,\n",
       " 'shit': 118,\n",
       " 'skin': 119,\n",
       " 'covered': 28,\n",
       " 'ego': 39,\n",
       " 'get': 55,\n",
       " 'talkin': 126,\n",
       " 'ya': 146,\n",
       " 'involved': 72,\n",
       " 'rebound': 115,\n",
       " 'got': 60,\n",
       " 'no': 101,\n",
       " 'end': 40,\n",
       " 'game': 54,\n",
       " 'reason': 114,\n",
       " 'stay': 122,\n",
       " 'down': 37,\n",
       " 'its': 75,\n",
       " 'way': 138,\n",
       " 'making': 88,\n",
       " 'nobody': 102,\n",
       " 'ever': 44,\n",
       " 'loved': 87,\n",
       " 'kinda': 77,\n",
       " 'youre': 149,\n",
       " 'tryna': 136,\n",
       " 'away': 9,\n",
       " 'from': 52,\n",
       " 'wont': 144,\n",
       " 'move': 97,\n",
       " 'just': 76,\n",
       " 'cryin': 31,\n",
       " 'prayin': 111,\n",
       " 'give': 57,\n",
       " 'thanks': 128,\n",
       " 'days': 32,\n",
       " 'hours': 65,\n",
       " 'another': 4,\n",
       " 'life': 81,\n",
       " 'breathin': 13,\n",
       " 'did': 34,\n",
       " 'good': 59,\n",
       " 'wouldnt': 145,\n",
       " 'bad': 10,\n",
       " 'better': 12,\n",
       " 'live': 83,\n",
       " 'were': 139,\n",
       " 'runnin': 117,\n",
       " 'of': 104,\n",
       " 'time': 133}"
      ]
     },
     "execution_count": 18,
     "metadata": {},
     "output_type": "execute_result"
    }
   ],
   "source": [
    "count_vec = CountVectorizer()\n",
    "count_vec_X = count_vec.fit_transform(tokenized_test_song)\n",
    "count_vec.vocabulary_"
   ]
  },
  {
   "cell_type": "markdown",
   "metadata": {},
   "source": [
    "Great! You've just successfully vectorized your first text document! Now, let's look at a more advanced type of vectorization, TF-IDF!\n",
    "\n",
    "### TF-IDF Vectorization\n",
    "\n",
    "TF-IDF stands for **_Term Frequency, Inverse Document Frequency_**.  This is a more advanced form of vectorization that weights each term in a document by how unique it is to the given document it is contained in, which allows us to summarize the contents of a document using a few key words.  If the word is used often in many other documents, it is not unique, and therefore probably not too useful if we wanted to figure out how this document is unique in relation to other documents.  Conversely, if a word is used many times in a document, but rarely in all the other documents we are considering, then it is likely a good indicator for telling us that this word is important to the document in question.  \n",
    "\n",
    "The formula TF-IDF uses to determine the weights of each term in a document is **_Term Frequency_** multipled by **_Inverse Document Frequency_**, where the formula for Term Frequency is:\n",
    "\n",
    "$$\\large Term\\ Frequency(t) = \\frac{number\\ of\\ times\\ t\\ appears\\ in\\ a\\ document} {total\\ number\\ of\\ terms\\ in\\ the\\ document} $$\n",
    "<br>\n",
    "<br>\n",
    "Complete the following function below to calculate term frequency for every term in a document.  "
   ]
  },
  {
   "cell_type": "code",
   "execution_count": 26,
   "metadata": {},
   "outputs": [
    {
     "name": "stdout",
     "output_type": "stream",
     "text": [
      "['important', 'thats', 'realest', 'its', 'breathin', 'hoped', 'new', 'with', 'ever', 'anything']\n"
     ]
    }
   ],
   "source": [
    "def term_frequency(BoW_dict):\n",
    "    total_word_count = sum(BoW_dict.values())\n",
    "    \n",
    "    for ind, val in BoW_dict.items():\n",
    "        BoW_dict[ind] = val/ total_word_count\n",
    "    \n",
    "    return BoW_dict\n",
    "\n",
    "test = term_frequency(test_vectorized)\n",
    "print(list(test)[10:20])"
   ]
  },
  {
   "cell_type": "markdown",
   "metadata": {},
   "source": [
    "The formula for Inverse Document Frequency is:  \n",
    "<br>  \n",
    "<br>\n",
    "$$\\large  IDF(t) =  log_e(\\frac{Total\\ Number\\ of\\ Documents}{Number\\ of\\ Documents\\ with\\ t\\ in\\ it})$$\n",
    "\n",
    "Now that we have this, we can easily calculate _Inverse Document Frequency_.  In the cell below, complete the following function.  this function should take in the list of dictionaries, with each item in the list being a Bag of Words representing the words in a different song. The function should return a dictionary containing the inverse document frequency values for each word.  "
   ]
  },
  {
   "cell_type": "code",
   "execution_count": 2,
   "metadata": {},
   "outputs": [
    {
     "data": {
      "text/plain": [
       "set()"
      ]
     },
     "execution_count": 2,
     "metadata": {},
     "output_type": "execute_result"
    }
   ],
   "source": [
    "alpha = set()\n",
    "alpha"
   ]
  },
  {
   "cell_type": "code",
   "execution_count": 3,
   "metadata": {},
   "outputs": [],
   "source": [
    "alpha.add('peanut')"
   ]
  },
  {
   "cell_type": "code",
   "execution_count": 7,
   "metadata": {},
   "outputs": [
    {
     "data": {
      "text/plain": [
       "set"
      ]
     },
     "execution_count": 7,
     "metadata": {},
     "output_type": "execute_result"
    }
   ],
   "source": [
    "type(alpha)"
   ]
  },
  {
   "cell_type": "code",
   "execution_count": 9,
   "metadata": {},
   "outputs": [],
   "source": [
    "def inverse_document_frequency(list_of_dicts):\n",
    "    \n",
    "    # step 1: Create Set of unique words\n",
    "    vocab_set = set()\n",
    "    \n",
    "    # Iterate through list of dfs and add index to vocab_set\n",
    "    for d in list_of_dicts:\n",
    "        for word in d.keys():\n",
    "            vocab_set.add(word)\n",
    "            \n",
    "    # step 2: C\n",
    "    # Once vocab set is complete, create an empty dictionary with a key for each word and value of 0.\n",
    "    full_vocab_dict = {i:0 for i in vocab_set}\n",
    "    \n",
    "    # Loop through each word in full_vocab_dict\n",
    "    for word, val in full_vocab_dict.items():\n",
    "        docs = 0\n",
    "        \n",
    "        # Loop through list of dicts.  Each time a dictionary contains the word, increment docs by 1\n",
    "        for d in list_of_dicts:\n",
    "            if word in d:\n",
    "                docs += 1\n",
    "        \n",
    "        # Now that we know denominator for equation, compute and set IDF value for word\n",
    "        \n",
    "        full_vocab_dict[word] = np.log((len(list_of_dicts)/ float(docs)))\n",
    "    \n",
    "    return full_vocab_dict"
   ]
  },
  {
   "cell_type": "markdown",
   "metadata": {},
   "source": [
    "### Computing TF-IDF\n",
    "\n",
    "Now that we can compute both Term Frequency and Inverse Document Frequency, computing an overall TF-IDF value is simple! All we need to do is multiply the two values.  \n",
    "\n",
    "In the cell below, complete the `tf_idf()` function.  This function should take in a list of dictionaries, just as the `inverse_document_frequency()` function did.  This function return a new list of dictionaries, with each dictionary containing the tf-idf vectorized representation of a corresponding song document. \n",
    "\n",
    "**_NOTE:_** Each document should contain the full vocabulary of the entire combined corpus.  "
   ]
  },
  {
   "cell_type": "code",
   "execution_count": 10,
   "metadata": {},
   "outputs": [],
   "source": [
    "def tf_idf(list_of_dicts):\n",
    "    # Create empty dictionary containing full vocabulary of entire corpus\n",
    "    doc_tf_idf = {}\n",
    "    idf = inverse_document_frequency(list_of_dicts)\n",
    "    full_vocab_list = {i:0 for i in list(idf.keys())}\n",
    "    \n",
    "    # Create tf-idf list of dictionaries, containing a dictionary that will be updated for each document\n",
    "    tf_idf_list_of_dicts = []\n",
    "    \n",
    "    # Now, compute tf and then use this to compute and set tf-idf values for each document\n",
    "    for doc in list_of_dicts:\n",
    "        doc_tf = term_frequency(doc)\n",
    "        for word in doc_tf:\n",
    "            doc_tf_idf[word] = doc_tf[word] * idf[word]\n",
    "        tf_idf_list_of_dicts.append(doc_tf_idf)\n",
    "    \n",
    "    return tf_idf_list_of_dicts"
   ]
  },
  {
   "cell_type": "markdown",
   "metadata": {},
   "source": [
    "### Vectorizing All Documents\n",
    "\n",
    "Now that we've created all the necessary helper functions, we can load in all of our documents and run each through the vectorization pipeline we've just created.\n",
    "\n",
    "In the cell below, complete the `main` function.  This function should take in a list of file names (provided for you in the `filenames` list we created at the start), and then:\n",
    "\n",
    "1. Read in each document\n",
    "1. Tokenize each document\n",
    "1. Convert each document to a Bag of Words (dictionary representation)\n",
    "1. Return a list of dictionaries vectorized using tf-idf, where each dictionary is a vectorized representation of a document.  \n",
    "\n",
    "**_HINT:_** Remember that all files are stored in the `data/` directory.  Be sure to append this to the filename when reading in each file, otherwise the path won't be correct!"
   ]
  },
  {
   "cell_type": "code",
   "execution_count": 34,
   "metadata": {},
   "outputs": [
    {
     "name": "stdout",
     "output_type": "stream",
     "text": [
      "['pristine', 'hold', 'as', 'girl', 'dreams', 'so', 'frozen', 'took', 'cross', 'beneath']\n"
     ]
    }
   ],
   "source": [
    "def main(filenames):\n",
    "    # Iterate through list of filenames and read each in\n",
    "    count_vectorized_all_documents = []\n",
    "    for file in filenames:\n",
    "        with open('data/' + file) as f:\n",
    "            raw_data = f.readlines()\n",
    "        # Clean and tokenize raw text\n",
    "        cleaned = clean_song(raw_data)\n",
    "        tokenized = tokenize(cleaned)\n",
    "        \n",
    "        # Get count vectorized representation and store in count_vectorized_all_documents  \n",
    "        count_vectorized_document = count_vectorize(tokenized)\n",
    "        count_vectorized_all_documents.append(count_vectorized_document)\n",
    "    \n",
    "    # Now that we have a list of BoW respresentations of each song, create a tf-idf representation of everything\n",
    "    tf_idf_all_docs = tf_idf(count_vectorized_all_documents)\n",
    "    \n",
    "    return tf_idf_all_docs\n",
    "\n",
    "tf_idf_all_docs = main(filenames)\n",
    "print(list(tf_idf_all_docs[0])[:10])"
   ]
  },
  {
   "cell_type": "markdown",
   "metadata": {},
   "source": [
    "### Visualizing our Vectorizations\n",
    "\n",
    "Now that we have a tf-idf representation each document, we can move on to the fun part--visualizing everything!\n",
    "\n",
    "Let's investigate how many dimensions our data currently has.  In the cell below, examine our dataset to figure out how many dimensions our dataset has. \n",
    "\n",
    "**_HINT_**: Remember that every word is it's own dimension!"
   ]
  },
  {
   "cell_type": "code",
   "execution_count": 35,
   "metadata": {},
   "outputs": [
    {
     "name": "stdout",
     "output_type": "stream",
     "text": [
      "Number of Dimensions: 1344\n"
     ]
    }
   ],
   "source": [
    "num_dims = len(tf_idf_all_docs[0])\n",
    "print(\"Number of Dimensions: {}\".format(num_dims))"
   ]
  },
  {
   "cell_type": "markdown",
   "metadata": {},
   "source": [
    "That's much too high-dimensional for us to visualize! In order to make it understandable to human eyes, we'll need to reduce dimensionality to 2 or 3 dimensions.  \n",
    "\n",
    "### Reducing Dimensionality\n",
    "\n",
    "To do this, we'll use a technique called **_t-SNE_** (short for _t-Stochastic Neighbors Embedding_).  This is too complex for us to code ourselves, so we'll make use of sklearn's implementation of it.  \n",
    "\n",
    "First, we need to pull the words out of the dictionaries stored in `tf_idf_all_docs` so that only the values remain, and store them in lists instead of dictionaries.  This is because the t-SNE object only works with Array-like objects, not dictionaries.  \n",
    "\n",
    "In the cell below, create a list of lists that contains a list representation of the values of each of the dictionaries stored in `tf_idf_all_docs`.  The same structure should remain--e.g. the first list should contain only the values that were in the 1st dictionary in `tf_idf_all_docs`, and so on. "
   ]
  },
  {
   "cell_type": "code",
   "execution_count": 45,
   "metadata": {},
   "outputs": [
    {
     "data": {
      "text/plain": [
       "[0.009133330102298753,\n",
       " 0.009260287183165135,\n",
       " 0.009247102951812105,\n",
       " 0.04332477894354695,\n",
       " 0.023713999811073517,\n",
       " 0.0015066182947505126,\n",
       " 0.009133330102298753,\n",
       " 0.0026496951587963702,\n",
       " 0.009133330102298753,\n",
       " 0.0036433308433450095]"
      ]
     },
     "execution_count": 45,
     "metadata": {},
     "output_type": "execute_result"
    }
   ],
   "source": [
    "tf_idf_vals_list = []\n",
    "\n",
    "for i in tf_idf_all_docs:\n",
    "    tf_idf_vals_list.append(list(i.values()))\n",
    "    \n",
    "tf_idf_vals_list[0][:10]"
   ]
  },
  {
   "cell_type": "markdown",
   "metadata": {},
   "source": [
    "Now that we have only the values, we can use the `TSNE` object from `sklearn` to transform our data appropriately.  In the cell below, create a `TSNE` with `n_components=3` passed in as a parameter.  Then, use the created object's `fit_transform()` method to transform the data stored in `tf_idf_vals_list` into 3-dimensional data.  Then, inspect the newly transformed data to confirm that it has the correct dimensionality. "
   ]
  },
  {
   "cell_type": "code",
   "execution_count": 46,
   "metadata": {},
   "outputs": [
    {
     "data": {
      "text/plain": [
       "array([[ -74.654396,  112.136566,  198.11873 ],\n",
       "       [-209.5782  , 1358.962   , -178.41478 ],\n",
       "       [-342.60257 ,   82.355705,  -11.223141],\n",
       "       [  58.33808 , -166.4156  ,   50.362118],\n",
       "       [ 137.5416  , -624.1974  ,  132.03088 ],\n",
       "       [  50.6981  ,   54.016617,  -28.915735],\n",
       "       [-259.9257  ,   90.65091 , -275.69238 ],\n",
       "       [-122.30173 ,  152.39073 , -107.78048 ],\n",
       "       [ 337.74493 ,   30.692303,  260.84177 ],\n",
       "       [ -73.13662 ,  -86.26101 , -184.5604  ],\n",
       "       [ 125.282265,  198.5965  ,  251.27396 ],\n",
       "       [ 159.57278 , -188.23828 , -147.02365 ],\n",
       "       [-293.39328 , -174.07135 ,  -78.46317 ],\n",
       "       [-176.05667 ,  -53.493694,   98.85636 ],\n",
       "       [ -70.8279  , -321.04196 , -206.48642 ],\n",
       "       [ 259.1835  ,  123.25567 ,  -68.50553 ],\n",
       "       [-108.88073 , -297.85452 ,   70.4645  ],\n",
       "       [ 135.04085 ,  -34.623394,  194.18283 ],\n",
       "       [  78.42578 ,  292.82043 ,  -18.076302],\n",
       "       [ 328.1117  ,  -91.92972 ,   22.648151]], dtype=float32)"
      ]
     },
     "execution_count": 46,
     "metadata": {},
     "output_type": "execute_result"
    }
   ],
   "source": [
    "t_sne_object_3d = TSNE(n_components=3)\n",
    "transformed_data_3d = t_sne_object_3d.fit_transform(tf_idf_vals_list)\n",
    "transformed_data_3d"
   ]
  },
  {
   "cell_type": "markdown",
   "metadata": {},
   "source": [
    "We'll also want to check out how the visualization looks in 2d.  Repeat the process above, but this time, create a `TSNE` object with 2 components instead of 3.  Again, use `fit_transform()` to transform the data and store it in the variable below, and then inspect it to confirm the transformed data has only 2 dimensions. "
   ]
  },
  {
   "cell_type": "code",
   "execution_count": 47,
   "metadata": {},
   "outputs": [
    {
     "data": {
      "text/plain": [
       "array([[ -28.669693,  -61.45654 ],\n",
       "       [  70.35916 , -125.16399 ],\n",
       "       [  63.38094 ,  -64.35049 ],\n",
       "       [  91.89831 ,   14.333624],\n",
       "       [  33.615723,  -93.85362 ],\n",
       "       [ -71.91649 ,    4.136962],\n",
       "       [  -8.591376,  -98.00605 ],\n",
       "       [ -27.44383 ,   27.054453],\n",
       "       [ -65.40031 ,  -94.63594 ],\n",
       "       [  46.32594 ,   25.227276],\n",
       "       [ 103.750916,  -34.63952 ],\n",
       "       [  10.83038 ,   55.343452],\n",
       "       [  53.45936 ,  -22.747278],\n",
       "       [  20.161291, -142.88084 ],\n",
       "       [  12.525275,   -6.451618],\n",
       "       [ -34.527306, -137.42978 ],\n",
       "       [  15.438516,  -51.555405],\n",
       "       [ -27.52494 ,  -20.42042 ],\n",
       "       [ -76.20193 ,  -45.60387 ],\n",
       "       [ 105.986534,  -86.83526 ]], dtype=float32)"
      ]
     },
     "execution_count": 47,
     "metadata": {},
     "output_type": "execute_result"
    }
   ],
   "source": [
    "t_sne_object_2d = TSNE(n_components=2)\n",
    "transformed_data_2d = t_sne_object_2d.fit_transform(tf_idf_vals_list)\n",
    "transformed_data_2d"
   ]
  },
  {
   "cell_type": "markdown",
   "metadata": {},
   "source": [
    "Now, let's visualize everything!  Run the cell below to a 3D visualization of the songs."
   ]
  },
  {
   "cell_type": "code",
   "execution_count": 49,
   "metadata": {},
   "outputs": [
    {
     "data": {
      "image/png": "[encoded data removed]",
      "text/plain": [
       "<Figure size 720x360 with 1 Axes>"
      ]
     },
     "metadata": {
      "needs_background": "light"
     },
     "output_type": "display_data"
    },
    {
     "data": {
      "image/png": "[encoded data removed]",
      "text/plain": [
       "<Figure size 1440x720 with 1 Axes>"
      ]
     },
     "metadata": {
      "needs_background": "light"
     },
     "output_type": "display_data"
    }
   ],
   "source": [
    "kendrick_3d = transformed_data_3d[:10]\n",
    "k3_x = [i[0] for i in kendrick_3d]\n",
    "k3_y = [i[1] for i in kendrick_3d]\n",
    "k3_z = [i[2] for i in kendrick_3d]\n",
    "\n",
    "garth_3d = transformed_data_3d[10:]\n",
    "g3_x = [i[0] for i in garth_3d]\n",
    "g3_y = [i[1] for i in garth_3d]\n",
    "g3_z = [i[2] for i in garth_3d]\n",
    "\n",
    "fig = plt.figure(figsize=(10,5))\n",
    "ax = fig.add_subplot(111, projection='3d')\n",
    "ax.scatter(k3_x, k3_y, k3_z, c='b', s=60, label='Kendrick')\n",
    "ax.scatter(g3_x, g3_y, g3_z, c='red', s=60, label='Garth')\n",
    "ax.view_init(30, 10)\n",
    "ax.legend()\n",
    "plt.show()\n",
    "\n",
    "kendrick_2d = transformed_data_2d[:10]\n",
    "k2_x = [i[0] for i in kendrick_2d]\n",
    "k2_y = [i[1] for i in kendrick_2d]\n",
    "\n",
    "garth_2d = transformed_data_2d[10:]\n",
    "g2_x = [i[0] for i in garth_2d]\n",
    "g2_y = [i[1] for i in garth_2d]\n",
    "\n",
    "fig = plt.figure(figsize=(20,10))\n",
    "ax = fig.add_subplot(222)\n",
    "ax.scatter(k2_x, k2_y, c='b', label='Kendrick')\n",
    "ax.scatter(g2_x, g2_y, c='red', label='Garth')\n",
    "ax.legend()\n",
    "plt.show()"
   ]
  },
  {
   "cell_type": "markdown",
   "metadata": {},
   "source": [
    "Interesting! Take a crack at interpreting these graphs by answering the following question below:\n",
    "\n",
    "What does each graph mean? Do you find one graph more informative than the other? Do you think that this method shows us discernable differences between Kendrick Lamar songs and Garth Brooks songs?  Use the graphs and your understanding of TF-IDF to support your answer.  \n",
    "\n",
    "Write your answer to this question below this line:\n",
    "________________________________________________________________________________________________________________________________\n",
    "\n",
    "Both graphs show a basic trend among the red and blue dots, although the 3-dimensional graph is more informative than the 2-dimensional graph.  We see a separation between the two artists because they both have words that they use, but the other artist does not.  The words in each song that are common to both are reduced very small numbers or to 0, because of the log operation in the IDF function.  This means that the elements of each song vector with the highest values will be the ones that have words that are unique to that specific document, or at least are rarely used in others.  "
   ]
  },
  {
   "cell_type": "markdown",
   "metadata": {},
   "source": [
    "## Summary\n",
    "\n",
    "In this lab, we learned how to: \n",
    "* Tokenize a corpus of words and identify the different choices to be made while parsing them\n",
    "* Use a Count Vectorization strategy to create a Bag of Words\n",
    "* Use TF-IDF Vectorization with multiple documents to identify words that are important/unique to certain documents\n",
    "* Visualize and compare vectorized text documents"
   ]
  }
 ],
 "metadata": {
  "kernelspec": {
   "display_name": "Python 3",
   "language": "python",
   "name": "python3"
  },
  "language_info": {
   "codemirror_mode": {
    "name": "ipython",
    "version": 3
   },
   "file_extension": ".py",
   "mimetype": "text/x-python",
   "name": "python",
   "nbconvert_exporter": "python",
   "pygments_lexer": "ipython3",
   "version": "3.6.6"
  }
 },
 "nbformat": 4,
 "nbformat_minor": 2
}
